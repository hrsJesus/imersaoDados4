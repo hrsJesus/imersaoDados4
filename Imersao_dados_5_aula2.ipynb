{
 "cells": [
  {
   "cell_type": "markdown",
   "metadata": {},
   "source": [
    "# Importação das libs"
   ]
  },
  {
   "cell_type": "code",
   "execution_count": 1,
   "metadata": {},
   "outputs": [],
   "source": [
    "import pandas as pd\n",
    "import seaborn as sns\n",
    "import matplotlib.pyplot as plt\n",
    "\n",
    "pd.options.display.float_format = '{:.2f}'.format"
   ]
  },
  {
   "cell_type": "markdown",
   "metadata": {},
   "source": [
    "# Leitura da fonte de dados"
   ]
  },
  {
   "cell_type": "code",
   "execution_count": 2,
   "metadata": {},
   "outputs": [],
   "source": [
    "df = pd.read_csv('https://gist.githubusercontent.com/tgcsantos/3bdb29eba6ce391e90df2b72205ba891/raw/22fa920e80c9fa209a9fccc8b52d74cc95d1599b/dados_imoveis.csv')"
   ]
  },
  {
   "cell_type": "code",
   "execution_count": 3,
   "metadata": {},
   "outputs": [
    {
     "data": {
      "text/html": [
       "<div>\n",
       "<style scoped>\n",
       "    .dataframe tbody tr th:only-of-type {\n",
       "        vertical-align: middle;\n",
       "    }\n",
       "\n",
       "    .dataframe tbody tr th {\n",
       "        vertical-align: top;\n",
       "    }\n",
       "\n",
       "    .dataframe thead th {\n",
       "        text-align: right;\n",
       "    }\n",
       "</style>\n",
       "<table border=\"1\" class=\"dataframe\">\n",
       "  <thead>\n",
       "    <tr style=\"text-align: right;\">\n",
       "      <th></th>\n",
       "      <th>Rua</th>\n",
       "      <th>Bairro</th>\n",
       "      <th>Cidade</th>\n",
       "      <th>Metragem</th>\n",
       "      <th>Quartos</th>\n",
       "      <th>Banheiros</th>\n",
       "      <th>Vagas</th>\n",
       "      <th>Valor</th>\n",
       "    </tr>\n",
       "  </thead>\n",
       "  <tbody>\n",
       "    <tr>\n",
       "      <th>0</th>\n",
       "      <td>Avenida Itacira, 255</td>\n",
       "      <td>Planalto Paulista</td>\n",
       "      <td>São Paulo</td>\n",
       "      <td>1000</td>\n",
       "      <td>4</td>\n",
       "      <td>8</td>\n",
       "      <td>6</td>\n",
       "      <td>R$ 7.000.000</td>\n",
       "    </tr>\n",
       "    <tr>\n",
       "      <th>1</th>\n",
       "      <td>Rua Aurelia Perez Alvarez, 42</td>\n",
       "      <td>Jardim dos Estados</td>\n",
       "      <td>São Paulo</td>\n",
       "      <td>496</td>\n",
       "      <td>4</td>\n",
       "      <td>4</td>\n",
       "      <td>4</td>\n",
       "      <td>R$ 3.700.000</td>\n",
       "    </tr>\n",
       "    <tr>\n",
       "      <th>2</th>\n",
       "      <td>Rua Alba Valdez</td>\n",
       "      <td>Jardim Reimberg</td>\n",
       "      <td>São Paulo</td>\n",
       "      <td>125</td>\n",
       "      <td>4</td>\n",
       "      <td>3</td>\n",
       "      <td>2</td>\n",
       "      <td>R$ 380.000</td>\n",
       "    </tr>\n",
       "    <tr>\n",
       "      <th>3</th>\n",
       "      <td>NaN</td>\n",
       "      <td>Jardim Morumbi</td>\n",
       "      <td>São Paulo</td>\n",
       "      <td>310</td>\n",
       "      <td>3</td>\n",
       "      <td>2</td>\n",
       "      <td>4</td>\n",
       "      <td>R$ 685.000</td>\n",
       "    </tr>\n",
       "    <tr>\n",
       "      <th>4</th>\n",
       "      <td>Rua Tobias Barreto, 195</td>\n",
       "      <td>Mooca</td>\n",
       "      <td>São Paulo</td>\n",
       "      <td>100</td>\n",
       "      <td>3</td>\n",
       "      <td>2</td>\n",
       "      <td>2</td>\n",
       "      <td>R$ 540.000</td>\n",
       "    </tr>\n",
       "  </tbody>\n",
       "</table>\n",
       "</div>"
      ],
      "text/plain": [
       "                              Rua              Bairro     Cidade  Metragem  \\\n",
       "0           Avenida Itacira, 255    Planalto Paulista  São Paulo      1000   \n",
       "1  Rua Aurelia Perez Alvarez, 42   Jardim dos Estados  São Paulo       496   \n",
       "2                 Rua Alba Valdez     Jardim Reimberg  São Paulo       125   \n",
       "3                             NaN      Jardim Morumbi  São Paulo       310   \n",
       "4        Rua Tobias Barreto, 195                Mooca  São Paulo       100   \n",
       "\n",
       "   Quartos  Banheiros  Vagas         Valor  \n",
       "0        4          8      6  R$ 7.000.000  \n",
       "1        4          4      4  R$ 3.700.000  \n",
       "2        4          3      2    R$ 380.000  \n",
       "3        3          2      4    R$ 685.000  \n",
       "4        3          2      2    R$ 540.000  "
      ]
     },
     "execution_count": 3,
     "metadata": {},
     "output_type": "execute_result"
    }
   ],
   "source": [
    "df.head()"
   ]
  },
  {
   "cell_type": "code",
   "execution_count": 4,
   "metadata": {},
   "outputs": [
    {
     "name": "stdout",
     "output_type": "stream",
     "text": [
      "<class 'pandas.core.frame.DataFrame'>\n",
      "RangeIndex: 10008 entries, 0 to 10007\n",
      "Data columns (total 8 columns):\n",
      " #   Column     Non-Null Count  Dtype \n",
      "---  ------     --------------  ----- \n",
      " 0   Rua        6574 non-null   object\n",
      " 1   Bairro     9996 non-null   object\n",
      " 2   Cidade     10008 non-null  object\n",
      " 3   Metragem   10008 non-null  int64 \n",
      " 4   Quartos    10008 non-null  int64 \n",
      " 5   Banheiros  10008 non-null  int64 \n",
      " 6   Vagas      10008 non-null  int64 \n",
      " 7   Valor      10008 non-null  object\n",
      "dtypes: int64(4), object(4)\n",
      "memory usage: 625.6+ KB\n"
     ]
    }
   ],
   "source": [
    "df.info()"
   ]
  },
  {
   "cell_type": "markdown",
   "metadata": {},
   "source": [
    "# Área média de todos os imóveis (M²)"
   ]
  },
  {
   "cell_type": "code",
   "execution_count": 5,
   "metadata": {},
   "outputs": [
    {
     "data": {
      "text/plain": [
       "442.30065947242207"
      ]
     },
     "execution_count": 5,
     "metadata": {},
     "output_type": "execute_result"
    }
   ],
   "source": [
    "df['Metragem'].mean()"
   ]
  },
  {
   "cell_type": "markdown",
   "metadata": {},
   "source": [
    "# Área média dos imóveis da Vila Mariana"
   ]
  },
  {
   "cell_type": "code",
   "execution_count": 6,
   "metadata": {},
   "outputs": [
    {
     "data": {
      "text/plain": [
       "233.6195652173913"
      ]
     },
     "execution_count": 6,
     "metadata": {},
     "output_type": "execute_result"
    }
   ],
   "source": [
    "df[df['Bairro'] == 'Vila Mariana']['Metragem'].mean()"
   ]
  },
  {
   "cell_type": "markdown",
   "metadata": {},
   "source": [
    "# Contagem dos Imóveis por Bairro"
   ]
  },
  {
   "cell_type": "code",
   "execution_count": 7,
   "metadata": {},
   "outputs": [],
   "source": [
    "n_imoveis_bairro = df['Bairro'].value_counts()"
   ]
  },
  {
   "cell_type": "markdown",
   "metadata": {},
   "source": [
    "# Os dez bairros com mais imóveis"
   ]
  },
  {
   "cell_type": "code",
   "execution_count": 8,
   "metadata": {},
   "outputs": [
    {
     "data": {
      "text/plain": [
       "<AxesSubplot:>"
      ]
     },
     "execution_count": 8,
     "metadata": {},
     "output_type": "execute_result"
    },
    {
     "data": {
      "image/png": "[encoded data removed]",
      "text/plain": [
       "<Figure size 432x288 with 1 Axes>"
      ]
     },
     "metadata": {
      "needs_background": "light"
     },
     "output_type": "display_data"
    }
   ],
   "source": [
    "n_imoveis_bairro.head(10).plot.bar()"
   ]
  },
  {
   "cell_type": "markdown",
   "metadata": {},
   "source": [
    "# Tratamento do campo 'Valor'"
   ]
  },
  {
   "cell_type": "code",
   "execution_count": 9,
   "metadata": {},
   "outputs": [
    {
     "data": {
      "text/plain": [
       "'R$ 7.000.000'"
      ]
     },
     "execution_count": 9,
     "metadata": {},
     "output_type": "execute_result"
    }
   ],
   "source": [
    "df['Valor'][0]"
   ]
  },
  {
   "cell_type": "code",
   "execution_count": 10,
   "metadata": {},
   "outputs": [
    {
     "data": {
      "text/plain": [
       "['R$', '7.000.000']"
      ]
     },
     "execution_count": 10,
     "metadata": {},
     "output_type": "execute_result"
    }
   ],
   "source": [
    "df['Valor'][0].split()"
   ]
  },
  {
   "cell_type": "code",
   "execution_count": 11,
   "metadata": {},
   "outputs": [
    {
     "data": {
      "text/html": [
       "<div>\n",
       "<style scoped>\n",
       "    .dataframe tbody tr th:only-of-type {\n",
       "        vertical-align: middle;\n",
       "    }\n",
       "\n",
       "    .dataframe tbody tr th {\n",
       "        vertical-align: top;\n",
       "    }\n",
       "\n",
       "    .dataframe thead th {\n",
       "        text-align: right;\n",
       "    }\n",
       "</style>\n",
       "<table border=\"1\" class=\"dataframe\">\n",
       "  <thead>\n",
       "    <tr style=\"text-align: right;\">\n",
       "      <th></th>\n",
       "      <th>Rua</th>\n",
       "      <th>Bairro</th>\n",
       "      <th>Cidade</th>\n",
       "      <th>Metragem</th>\n",
       "      <th>Quartos</th>\n",
       "      <th>Banheiros</th>\n",
       "      <th>Vagas</th>\n",
       "      <th>Valor</th>\n",
       "    </tr>\n",
       "  </thead>\n",
       "  <tbody>\n",
       "    <tr>\n",
       "      <th>2764</th>\n",
       "      <td>Rua Doutor Rafael Caramuru Lanzelloti, 77</td>\n",
       "      <td>Aclimação</td>\n",
       "      <td>São Paulo</td>\n",
       "      <td>205</td>\n",
       "      <td>2</td>\n",
       "      <td>1</td>\n",
       "      <td>1</td>\n",
       "      <td>R$ 850.000</td>\n",
       "    </tr>\n",
       "    <tr>\n",
       "      <th>4946</th>\n",
       "      <td>Rua Dom Luís Felipe de Orleans</td>\n",
       "      <td>Vila Maria Baixa</td>\n",
       "      <td>São Paulo</td>\n",
       "      <td>100</td>\n",
       "      <td>2</td>\n",
       "      <td>2</td>\n",
       "      <td>1</td>\n",
       "      <td>R$ 499.998</td>\n",
       "    </tr>\n",
       "    <tr>\n",
       "      <th>1024</th>\n",
       "      <td>Rua Janaúba</td>\n",
       "      <td>Jardim Panorama D'Oeste</td>\n",
       "      <td>São Paulo</td>\n",
       "      <td>369</td>\n",
       "      <td>4</td>\n",
       "      <td>4</td>\n",
       "      <td>4</td>\n",
       "      <td>R$ 4.350.000</td>\n",
       "    </tr>\n",
       "    <tr>\n",
       "      <th>4781</th>\n",
       "      <td>Rua Cinco de Julho</td>\n",
       "      <td>Vila Nair</td>\n",
       "      <td>São Paulo</td>\n",
       "      <td>88</td>\n",
       "      <td>3</td>\n",
       "      <td>3</td>\n",
       "      <td>3</td>\n",
       "      <td>R$ 750.000</td>\n",
       "    </tr>\n",
       "    <tr>\n",
       "      <th>9400</th>\n",
       "      <td>Rua Diogo Rodrigues Marques</td>\n",
       "      <td>Jardim Ernestina</td>\n",
       "      <td>São Paulo</td>\n",
       "      <td>137</td>\n",
       "      <td>3</td>\n",
       "      <td>3</td>\n",
       "      <td>2</td>\n",
       "      <td>R$ 580.000</td>\n",
       "    </tr>\n",
       "    <tr>\n",
       "      <th>5803</th>\n",
       "      <td>NaN</td>\n",
       "      <td>Jardim Leonor</td>\n",
       "      <td>São Paulo</td>\n",
       "      <td>980</td>\n",
       "      <td>5</td>\n",
       "      <td>8</td>\n",
       "      <td>6</td>\n",
       "      <td>R$ 3.200.000</td>\n",
       "    </tr>\n",
       "    <tr>\n",
       "      <th>1015</th>\n",
       "      <td>Rua Comandante Ismael Guilherme</td>\n",
       "      <td>Jardim Luzitânia</td>\n",
       "      <td>São Paulo</td>\n",
       "      <td>731</td>\n",
       "      <td>4</td>\n",
       "      <td>8</td>\n",
       "      <td>4</td>\n",
       "      <td>R$ 8.000.000</td>\n",
       "    </tr>\n",
       "    <tr>\n",
       "      <th>6045</th>\n",
       "      <td>Rua Doutor Cid de Castro Prado</td>\n",
       "      <td>Planalto Paulista</td>\n",
       "      <td>São Paulo</td>\n",
       "      <td>144</td>\n",
       "      <td>2</td>\n",
       "      <td>3</td>\n",
       "      <td>2</td>\n",
       "      <td>R$ 800.000</td>\n",
       "    </tr>\n",
       "    <tr>\n",
       "      <th>2125</th>\n",
       "      <td>NaN</td>\n",
       "      <td>Alto de Pinheiros</td>\n",
       "      <td>São Paulo</td>\n",
       "      <td>764</td>\n",
       "      <td>3</td>\n",
       "      <td>5</td>\n",
       "      <td>4</td>\n",
       "      <td>R$ 48.000\\n                      /Mês</td>\n",
       "    </tr>\n",
       "    <tr>\n",
       "      <th>9215</th>\n",
       "      <td>NaN</td>\n",
       "      <td>Cidade Domitila</td>\n",
       "      <td>São Paulo</td>\n",
       "      <td>70</td>\n",
       "      <td>2</td>\n",
       "      <td>1</td>\n",
       "      <td>1</td>\n",
       "      <td>R$ 325.000</td>\n",
       "    </tr>\n",
       "  </tbody>\n",
       "</table>\n",
       "</div>"
      ],
      "text/plain": [
       "                                             Rua                   Bairro  \\\n",
       "2764  Rua Doutor Rafael Caramuru Lanzelloti, 77                 Aclimação   \n",
       "4946              Rua Dom Luís Felipe de Orleans         Vila Maria Baixa   \n",
       "1024                                 Rua Janaúba  Jardim Panorama D'Oeste   \n",
       "4781                          Rua Cinco de Julho                Vila Nair   \n",
       "9400                 Rua Diogo Rodrigues Marques         Jardim Ernestina   \n",
       "5803                                         NaN            Jardim Leonor   \n",
       "1015             Rua Comandante Ismael Guilherme         Jardim Luzitânia   \n",
       "6045              Rua Doutor Cid de Castro Prado        Planalto Paulista   \n",
       "2125                                         NaN        Alto de Pinheiros   \n",
       "9215                                         NaN          Cidade Domitila   \n",
       "\n",
       "         Cidade  Metragem  Quartos  Banheiros  Vagas  \\\n",
       "2764  São Paulo       205        2          1      1   \n",
       "4946  São Paulo       100        2          2      1   \n",
       "1024  São Paulo       369        4          4      4   \n",
       "4781  São Paulo        88        3          3      3   \n",
       "9400  São Paulo       137        3          3      2   \n",
       "5803  São Paulo       980        5          8      6   \n",
       "1015  São Paulo       731        4          8      4   \n",
       "6045  São Paulo       144        2          3      2   \n",
       "2125  São Paulo       764        3          5      4   \n",
       "9215  São Paulo        70        2          1      1   \n",
       "\n",
       "                                      Valor  \n",
       "2764                             R$ 850.000  \n",
       "4946                             R$ 499.998  \n",
       "1024                           R$ 4.350.000  \n",
       "4781                             R$ 750.000  \n",
       "9400                             R$ 580.000  \n",
       "5803                           R$ 3.200.000  \n",
       "1015                           R$ 8.000.000  \n",
       "6045                             R$ 800.000  \n",
       "2125  R$ 48.000\\n                      /Mês  \n",
       "9215                             R$ 325.000  "
      ]
     },
     "execution_count": 11,
     "metadata": {},
     "output_type": "execute_result"
    }
   ],
   "source": [
    "# visualizando uma amostra, percebe-se a existência de outros padrões no campo 'Valor'\n",
    "df.sample(10)"
   ]
  },
  {
   "cell_type": "code",
   "execution_count": 12,
   "metadata": {},
   "outputs": [
    {
     "data": {
      "text/html": [
       "<div>\n",
       "<style scoped>\n",
       "    .dataframe tbody tr th:only-of-type {\n",
       "        vertical-align: middle;\n",
       "    }\n",
       "\n",
       "    .dataframe tbody tr th {\n",
       "        vertical-align: top;\n",
       "    }\n",
       "\n",
       "    .dataframe thead th {\n",
       "        text-align: right;\n",
       "    }\n",
       "</style>\n",
       "<table border=\"1\" class=\"dataframe\">\n",
       "  <thead>\n",
       "    <tr style=\"text-align: right;\">\n",
       "      <th></th>\n",
       "      <th>0</th>\n",
       "      <th>1</th>\n",
       "      <th>2</th>\n",
       "    </tr>\n",
       "  </thead>\n",
       "  <tbody>\n",
       "    <tr>\n",
       "      <th>0</th>\n",
       "      <td>R$</td>\n",
       "      <td>7.000.000</td>\n",
       "      <td>None</td>\n",
       "    </tr>\n",
       "    <tr>\n",
       "      <th>1</th>\n",
       "      <td>R$</td>\n",
       "      <td>3.700.000</td>\n",
       "      <td>None</td>\n",
       "    </tr>\n",
       "    <tr>\n",
       "      <th>2</th>\n",
       "      <td>R$</td>\n",
       "      <td>380.000</td>\n",
       "      <td>None</td>\n",
       "    </tr>\n",
       "    <tr>\n",
       "      <th>3</th>\n",
       "      <td>R$</td>\n",
       "      <td>685.000</td>\n",
       "      <td>None</td>\n",
       "    </tr>\n",
       "    <tr>\n",
       "      <th>4</th>\n",
       "      <td>R$</td>\n",
       "      <td>540.000</td>\n",
       "      <td>None</td>\n",
       "    </tr>\n",
       "    <tr>\n",
       "      <th>...</th>\n",
       "      <td>...</td>\n",
       "      <td>...</td>\n",
       "      <td>...</td>\n",
       "    </tr>\n",
       "    <tr>\n",
       "      <th>10003</th>\n",
       "      <td>R$</td>\n",
       "      <td>665.000</td>\n",
       "      <td>None</td>\n",
       "    </tr>\n",
       "    <tr>\n",
       "      <th>10004</th>\n",
       "      <td>R$</td>\n",
       "      <td>2.300.000</td>\n",
       "      <td>None</td>\n",
       "    </tr>\n",
       "    <tr>\n",
       "      <th>10005</th>\n",
       "      <td>R$</td>\n",
       "      <td>1.050.000</td>\n",
       "      <td>None</td>\n",
       "    </tr>\n",
       "    <tr>\n",
       "      <th>10006</th>\n",
       "      <td>R$</td>\n",
       "      <td>2.200</td>\n",
       "      <td>/Mês</td>\n",
       "    </tr>\n",
       "    <tr>\n",
       "      <th>10007</th>\n",
       "      <td>R$</td>\n",
       "      <td>270.000</td>\n",
       "      <td>None</td>\n",
       "    </tr>\n",
       "  </tbody>\n",
       "</table>\n",
       "<p>10008 rows × 3 columns</p>\n",
       "</div>"
      ],
      "text/plain": [
       "        0          1     2\n",
       "0      R$  7.000.000  None\n",
       "1      R$  3.700.000  None\n",
       "2      R$    380.000  None\n",
       "3      R$    685.000  None\n",
       "4      R$    540.000  None\n",
       "...    ..        ...   ...\n",
       "10003  R$    665.000  None\n",
       "10004  R$  2.300.000  None\n",
       "10005  R$  1.050.000  None\n",
       "10006  R$      2.200  /Mês\n",
       "10007  R$    270.000  None\n",
       "\n",
       "[10008 rows x 3 columns]"
      ]
     },
     "execution_count": 12,
     "metadata": {},
     "output_type": "execute_result"
    }
   ],
   "source": [
    "# o parâmetro 'expand' o método 'split' permite obter um DataFrame\n",
    "df['Valor'].str.split(expand=True)"
   ]
  },
  {
   "cell_type": "code",
   "execution_count": 13,
   "metadata": {},
   "outputs": [
    {
     "data": {
      "text/plain": [
       "array(['R$'], dtype=object)"
      ]
     },
     "execution_count": 13,
     "metadata": {},
     "output_type": "execute_result"
    }
   ],
   "source": [
    "# Verificar se o primeiro pedaço do conteúdo é mesmo apenas \"R$\"\n",
    "df['Valor'].str.split(expand=True)[0].unique()"
   ]
  },
  {
   "cell_type": "code",
   "execution_count": 14,
   "metadata": {},
   "outputs": [
    {
     "data": {
      "text/plain": [
       "array(['7.000.000', '3.700.000', '380.000', ..., '553.000', '951.000',\n",
       "       '2.200'], dtype=object)"
      ]
     },
     "execution_count": 14,
     "metadata": {},
     "output_type": "execute_result"
    }
   ],
   "source": [
    "# Verificar se o segundo pedaço contém valores\n",
    "df['Valor'].str.split(expand=True)[1].unique()"
   ]
  },
  {
   "cell_type": "code",
   "execution_count": 15,
   "metadata": {},
   "outputs": [
    {
     "data": {
      "text/plain": [
       "array([None, '/Mês', '/Ano', '/Dia'], dtype=object)"
      ]
     },
     "execution_count": 15,
     "metadata": {},
     "output_type": "execute_result"
    }
   ],
   "source": [
    "# Verificar o terceiro pedaço\n",
    "df['Valor'].str.split(expand=True)[2].unique()"
   ]
  },
  {
   "cell_type": "code",
   "execution_count": 16,
   "metadata": {},
   "outputs": [],
   "source": [
    "# criação das colunas que receberão os valores divididos\n",
    "df[['Moeda', 'valor_anuncio', 'tipo_anuncio']] = df['Valor'].str.split(expand=True)"
   ]
  },
  {
   "cell_type": "code",
   "execution_count": 17,
   "metadata": {},
   "outputs": [
    {
     "data": {
      "text/html": [
       "<div>\n",
       "<style scoped>\n",
       "    .dataframe tbody tr th:only-of-type {\n",
       "        vertical-align: middle;\n",
       "    }\n",
       "\n",
       "    .dataframe tbody tr th {\n",
       "        vertical-align: top;\n",
       "    }\n",
       "\n",
       "    .dataframe thead th {\n",
       "        text-align: right;\n",
       "    }\n",
       "</style>\n",
       "<table border=\"1\" class=\"dataframe\">\n",
       "  <thead>\n",
       "    <tr style=\"text-align: right;\">\n",
       "      <th></th>\n",
       "      <th>Rua</th>\n",
       "      <th>Bairro</th>\n",
       "      <th>Cidade</th>\n",
       "      <th>Metragem</th>\n",
       "      <th>Quartos</th>\n",
       "      <th>Banheiros</th>\n",
       "      <th>Vagas</th>\n",
       "      <th>Valor</th>\n",
       "      <th>Moeda</th>\n",
       "      <th>valor_anuncio</th>\n",
       "      <th>tipo_anuncio</th>\n",
       "    </tr>\n",
       "  </thead>\n",
       "  <tbody>\n",
       "    <tr>\n",
       "      <th>0</th>\n",
       "      <td>Avenida Itacira, 255</td>\n",
       "      <td>Planalto Paulista</td>\n",
       "      <td>São Paulo</td>\n",
       "      <td>1000</td>\n",
       "      <td>4</td>\n",
       "      <td>8</td>\n",
       "      <td>6</td>\n",
       "      <td>R$ 7.000.000</td>\n",
       "      <td>R$</td>\n",
       "      <td>7.000.000</td>\n",
       "      <td>None</td>\n",
       "    </tr>\n",
       "    <tr>\n",
       "      <th>1</th>\n",
       "      <td>Rua Aurelia Perez Alvarez, 42</td>\n",
       "      <td>Jardim dos Estados</td>\n",
       "      <td>São Paulo</td>\n",
       "      <td>496</td>\n",
       "      <td>4</td>\n",
       "      <td>4</td>\n",
       "      <td>4</td>\n",
       "      <td>R$ 3.700.000</td>\n",
       "      <td>R$</td>\n",
       "      <td>3.700.000</td>\n",
       "      <td>None</td>\n",
       "    </tr>\n",
       "    <tr>\n",
       "      <th>2</th>\n",
       "      <td>Rua Alba Valdez</td>\n",
       "      <td>Jardim Reimberg</td>\n",
       "      <td>São Paulo</td>\n",
       "      <td>125</td>\n",
       "      <td>4</td>\n",
       "      <td>3</td>\n",
       "      <td>2</td>\n",
       "      <td>R$ 380.000</td>\n",
       "      <td>R$</td>\n",
       "      <td>380.000</td>\n",
       "      <td>None</td>\n",
       "    </tr>\n",
       "    <tr>\n",
       "      <th>3</th>\n",
       "      <td>NaN</td>\n",
       "      <td>Jardim Morumbi</td>\n",
       "      <td>São Paulo</td>\n",
       "      <td>310</td>\n",
       "      <td>3</td>\n",
       "      <td>2</td>\n",
       "      <td>4</td>\n",
       "      <td>R$ 685.000</td>\n",
       "      <td>R$</td>\n",
       "      <td>685.000</td>\n",
       "      <td>None</td>\n",
       "    </tr>\n",
       "    <tr>\n",
       "      <th>4</th>\n",
       "      <td>Rua Tobias Barreto, 195</td>\n",
       "      <td>Mooca</td>\n",
       "      <td>São Paulo</td>\n",
       "      <td>100</td>\n",
       "      <td>3</td>\n",
       "      <td>2</td>\n",
       "      <td>2</td>\n",
       "      <td>R$ 540.000</td>\n",
       "      <td>R$</td>\n",
       "      <td>540.000</td>\n",
       "      <td>None</td>\n",
       "    </tr>\n",
       "  </tbody>\n",
       "</table>\n",
       "</div>"
      ],
      "text/plain": [
       "                              Rua              Bairro     Cidade  Metragem  \\\n",
       "0           Avenida Itacira, 255    Planalto Paulista  São Paulo      1000   \n",
       "1  Rua Aurelia Perez Alvarez, 42   Jardim dos Estados  São Paulo       496   \n",
       "2                 Rua Alba Valdez     Jardim Reimberg  São Paulo       125   \n",
       "3                             NaN      Jardim Morumbi  São Paulo       310   \n",
       "4        Rua Tobias Barreto, 195                Mooca  São Paulo       100   \n",
       "\n",
       "   Quartos  Banheiros  Vagas         Valor Moeda valor_anuncio tipo_anuncio  \n",
       "0        4          8      6  R$ 7.000.000    R$     7.000.000         None  \n",
       "1        4          4      4  R$ 3.700.000    R$     3.700.000         None  \n",
       "2        4          3      2    R$ 380.000    R$       380.000         None  \n",
       "3        3          2      4    R$ 685.000    R$       685.000         None  \n",
       "4        3          2      2    R$ 540.000    R$       540.000         None  "
      ]
     },
     "execution_count": 17,
     "metadata": {},
     "output_type": "execute_result"
    }
   ],
   "source": [
    "df.head()"
   ]
  },
  {
   "cell_type": "code",
   "execution_count": 18,
   "metadata": {},
   "outputs": [
    {
     "data": {
      "text/html": [
       "<div>\n",
       "<style scoped>\n",
       "    .dataframe tbody tr th:only-of-type {\n",
       "        vertical-align: middle;\n",
       "    }\n",
       "\n",
       "    .dataframe tbody tr th {\n",
       "        vertical-align: top;\n",
       "    }\n",
       "\n",
       "    .dataframe thead th {\n",
       "        text-align: right;\n",
       "    }\n",
       "</style>\n",
       "<table border=\"1\" class=\"dataframe\">\n",
       "  <thead>\n",
       "    <tr style=\"text-align: right;\">\n",
       "      <th></th>\n",
       "      <th>Rua</th>\n",
       "      <th>Bairro</th>\n",
       "      <th>Cidade</th>\n",
       "      <th>Metragem</th>\n",
       "      <th>Quartos</th>\n",
       "      <th>Banheiros</th>\n",
       "      <th>Vagas</th>\n",
       "      <th>Valor</th>\n",
       "      <th>Moeda</th>\n",
       "      <th>valor_anuncio</th>\n",
       "      <th>tipo_anuncio</th>\n",
       "    </tr>\n",
       "  </thead>\n",
       "  <tbody>\n",
       "    <tr>\n",
       "      <th>0</th>\n",
       "      <td>Avenida Itacira, 255</td>\n",
       "      <td>Planalto Paulista</td>\n",
       "      <td>São Paulo</td>\n",
       "      <td>1000</td>\n",
       "      <td>4</td>\n",
       "      <td>8</td>\n",
       "      <td>6</td>\n",
       "      <td>R$ 7.000.000</td>\n",
       "      <td>R$</td>\n",
       "      <td>7.000.000</td>\n",
       "      <td>None</td>\n",
       "    </tr>\n",
       "    <tr>\n",
       "      <th>1</th>\n",
       "      <td>Rua Aurelia Perez Alvarez, 42</td>\n",
       "      <td>Jardim dos Estados</td>\n",
       "      <td>São Paulo</td>\n",
       "      <td>496</td>\n",
       "      <td>4</td>\n",
       "      <td>4</td>\n",
       "      <td>4</td>\n",
       "      <td>R$ 3.700.000</td>\n",
       "      <td>R$</td>\n",
       "      <td>3.700.000</td>\n",
       "      <td>None</td>\n",
       "    </tr>\n",
       "    <tr>\n",
       "      <th>2</th>\n",
       "      <td>Rua Alba Valdez</td>\n",
       "      <td>Jardim Reimberg</td>\n",
       "      <td>São Paulo</td>\n",
       "      <td>125</td>\n",
       "      <td>4</td>\n",
       "      <td>3</td>\n",
       "      <td>2</td>\n",
       "      <td>R$ 380.000</td>\n",
       "      <td>R$</td>\n",
       "      <td>380.000</td>\n",
       "      <td>None</td>\n",
       "    </tr>\n",
       "    <tr>\n",
       "      <th>3</th>\n",
       "      <td>NaN</td>\n",
       "      <td>Jardim Morumbi</td>\n",
       "      <td>São Paulo</td>\n",
       "      <td>310</td>\n",
       "      <td>3</td>\n",
       "      <td>2</td>\n",
       "      <td>4</td>\n",
       "      <td>R$ 685.000</td>\n",
       "      <td>R$</td>\n",
       "      <td>685.000</td>\n",
       "      <td>None</td>\n",
       "    </tr>\n",
       "    <tr>\n",
       "      <th>4</th>\n",
       "      <td>Rua Tobias Barreto, 195</td>\n",
       "      <td>Mooca</td>\n",
       "      <td>São Paulo</td>\n",
       "      <td>100</td>\n",
       "      <td>3</td>\n",
       "      <td>2</td>\n",
       "      <td>2</td>\n",
       "      <td>R$ 540.000</td>\n",
       "      <td>R$</td>\n",
       "      <td>540.000</td>\n",
       "      <td>None</td>\n",
       "    </tr>\n",
       "  </tbody>\n",
       "</table>\n",
       "</div>"
      ],
      "text/plain": [
       "                              Rua              Bairro     Cidade  Metragem  \\\n",
       "0           Avenida Itacira, 255    Planalto Paulista  São Paulo      1000   \n",
       "1  Rua Aurelia Perez Alvarez, 42   Jardim dos Estados  São Paulo       496   \n",
       "2                 Rua Alba Valdez     Jardim Reimberg  São Paulo       125   \n",
       "3                             NaN      Jardim Morumbi  São Paulo       310   \n",
       "4        Rua Tobias Barreto, 195                Mooca  São Paulo       100   \n",
       "\n",
       "   Quartos  Banheiros  Vagas         Valor Moeda valor_anuncio tipo_anuncio  \n",
       "0        4          8      6  R$ 7.000.000    R$     7.000.000         None  \n",
       "1        4          4      4  R$ 3.700.000    R$     3.700.000         None  \n",
       "2        4          3      2    R$ 380.000    R$       380.000         None  \n",
       "3        3          2      4    R$ 685.000    R$       685.000         None  \n",
       "4        3          2      2    R$ 540.000    R$       540.000         None  "
      ]
     },
     "execution_count": 18,
     "metadata": {},
     "output_type": "execute_result"
    }
   ],
   "source": [
    "# Filtro para desconsiderar as linhas cujo campo 'tipo_anuncio' não é None (imóveis possivelmente ofertados para aluguel)\n",
    "df = df[df['tipo_anuncio'].isnull()]\n",
    "df.head()"
   ]
  },
  {
   "cell_type": "code",
   "execution_count": 19,
   "metadata": {},
   "outputs": [
    {
     "name": "stdout",
     "output_type": "stream",
     "text": [
      "<class 'pandas.core.frame.DataFrame'>\n",
      "Int64Index: 9156 entries, 0 to 10007\n",
      "Data columns (total 11 columns):\n",
      " #   Column         Non-Null Count  Dtype \n",
      "---  ------         --------------  ----- \n",
      " 0   Rua            6107 non-null   object\n",
      " 1   Bairro         9146 non-null   object\n",
      " 2   Cidade         9156 non-null   object\n",
      " 3   Metragem       9156 non-null   int64 \n",
      " 4   Quartos        9156 non-null   int64 \n",
      " 5   Banheiros      9156 non-null   int64 \n",
      " 6   Vagas          9156 non-null   int64 \n",
      " 7   Valor          9156 non-null   object\n",
      " 8   Moeda          9156 non-null   object\n",
      " 9   valor_anuncio  9156 non-null   object\n",
      " 10  tipo_anuncio   0 non-null      object\n",
      "dtypes: int64(4), object(7)\n",
      "memory usage: 858.4+ KB\n"
     ]
    }
   ],
   "source": [
    "df.info()"
   ]
  },
  {
   "cell_type": "code",
   "execution_count": 20,
   "metadata": {},
   "outputs": [
    {
     "name": "stderr",
     "output_type": "stream",
     "text": [
      "/tmp/ipykernel_25075/2594533398.py:2: FutureWarning: The default value of regex will change from True to False in a future version. In addition, single character regular expressions will *not* be treated as literal strings when regex=True.\n",
      "  df['valor_anuncio'] = df['valor_anuncio'].str.replace('.', '').astype(float)\n"
     ]
    }
   ],
   "source": [
    "# conversão do 'valor_anuncio' para float\n",
    "df['valor_anuncio'] = df['valor_anuncio'].str.replace('.', '').astype(float)"
   ]
  },
  {
   "cell_type": "code",
   "execution_count": 22,
   "metadata": {},
   "outputs": [],
   "source": [
    "# Exclusão de colunas\n",
    "df = df.drop(['Valor', 'Moeda', 'tipo_anuncio'], axis=1)"
   ]
  },
  {
   "cell_type": "markdown",
   "metadata": {},
   "source": [
    "# Verificação dos tipos de dados"
   ]
  },
  {
   "cell_type": "code",
   "execution_count": 23,
   "metadata": {},
   "outputs": [
    {
     "data": {
      "text/plain": [
       "Rua               object\n",
       "Bairro            object\n",
       "Cidade            object\n",
       "Metragem           int64\n",
       "Quartos            int64\n",
       "Banheiros          int64\n",
       "Vagas              int64\n",
       "valor_anuncio    float64\n",
       "dtype: object"
      ]
     },
     "execution_count": 23,
     "metadata": {},
     "output_type": "execute_result"
    }
   ],
   "source": [
    "df.dtypes"
   ]
  },
  {
   "cell_type": "markdown",
   "metadata": {},
   "source": [
    "# Desafios\n",
    "## 1 - Realizar a média da metragem para cada um dos bairros (Paulo)"
   ]
  },
  {
   "cell_type": "code",
   "execution_count": 24,
   "metadata": {},
   "outputs": [
    {
     "data": {
      "text/html": [
       "<div>\n",
       "<style scoped>\n",
       "    .dataframe tbody tr th:only-of-type {\n",
       "        vertical-align: middle;\n",
       "    }\n",
       "\n",
       "    .dataframe tbody tr th {\n",
       "        vertical-align: top;\n",
       "    }\n",
       "\n",
       "    .dataframe thead th {\n",
       "        text-align: right;\n",
       "    }\n",
       "</style>\n",
       "<table border=\"1\" class=\"dataframe\">\n",
       "  <thead>\n",
       "    <tr style=\"text-align: right;\">\n",
       "      <th></th>\n",
       "      <th>Bairro</th>\n",
       "      <th>Metragem</th>\n",
       "    </tr>\n",
       "  </thead>\n",
       "  <tbody>\n",
       "    <tr>\n",
       "      <th>424</th>\n",
       "      <td>Sítio Represa</td>\n",
       "      <td>37000.00</td>\n",
       "    </tr>\n",
       "    <tr>\n",
       "      <th>485</th>\n",
       "      <td>Vila Castelo</td>\n",
       "      <td>2850.00</td>\n",
       "    </tr>\n",
       "    <tr>\n",
       "      <th>168</th>\n",
       "      <td>Jardim Guedala</td>\n",
       "      <td>2754.14</td>\n",
       "    </tr>\n",
       "    <tr>\n",
       "      <th>307</th>\n",
       "      <td>Jardim das Camélias</td>\n",
       "      <td>1700.00</td>\n",
       "    </tr>\n",
       "    <tr>\n",
       "      <th>40</th>\n",
       "      <td>Chácara Flora</td>\n",
       "      <td>1251.44</td>\n",
       "    </tr>\n",
       "    <tr>\n",
       "      <th>...</th>\n",
       "      <td>...</td>\n",
       "      <td>...</td>\n",
       "    </tr>\n",
       "    <tr>\n",
       "      <th>53</th>\n",
       "      <td>Cidade Antônio Estevão de Carvalho</td>\n",
       "      <td>57.50</td>\n",
       "    </tr>\n",
       "    <tr>\n",
       "      <th>213</th>\n",
       "      <td>Jardim Nova Germania</td>\n",
       "      <td>57.00</td>\n",
       "    </tr>\n",
       "    <tr>\n",
       "      <th>114</th>\n",
       "      <td>Jardim Benfica</td>\n",
       "      <td>48.00</td>\n",
       "    </tr>\n",
       "    <tr>\n",
       "      <th>557</th>\n",
       "      <td>Vila Leonor</td>\n",
       "      <td>46.00</td>\n",
       "    </tr>\n",
       "    <tr>\n",
       "      <th>527</th>\n",
       "      <td>Vila Guaca</td>\n",
       "      <td>10.00</td>\n",
       "    </tr>\n",
       "  </tbody>\n",
       "</table>\n",
       "<p>697 rows × 2 columns</p>\n",
       "</div>"
      ],
      "text/plain": [
       "                                 Bairro  Metragem\n",
       "424                       Sítio Represa  37000.00\n",
       "485                        Vila Castelo   2850.00\n",
       "168                      Jardim Guedala   2754.14\n",
       "307                 Jardim das Camélias   1700.00\n",
       "40                        Chácara Flora   1251.44\n",
       "..                                  ...       ...\n",
       "53   Cidade Antônio Estevão de Carvalho     57.50\n",
       "213                Jardim Nova Germania     57.00\n",
       "114                      Jardim Benfica     48.00\n",
       "557                         Vila Leonor     46.00\n",
       "527                          Vila Guaca     10.00\n",
       "\n",
       "[697 rows x 2 columns]"
      ]
     },
     "execution_count": 24,
     "metadata": {},
     "output_type": "execute_result"
    }
   ],
   "source": [
    "df[['Bairro', 'Metragem']].groupby('Bairro').mean().reset_index().sort_values(by='Metragem', ascending=False)"
   ]
  },
  {
   "cell_type": "markdown",
   "metadata": {},
   "source": [
    "## 2 - Duas formas de selecionar os dados por bairro (consultar os métodos na documentação do pandas) (Thiago)"
   ]
  },
  {
   "cell_type": "code",
   "execution_count": 25,
   "metadata": {},
   "outputs": [
    {
     "data": {
      "text/html": [
       "<div>\n",
       "<style scoped>\n",
       "    .dataframe tbody tr th:only-of-type {\n",
       "        vertical-align: middle;\n",
       "    }\n",
       "\n",
       "    .dataframe tbody tr th {\n",
       "        vertical-align: top;\n",
       "    }\n",
       "\n",
       "    .dataframe thead th {\n",
       "        text-align: right;\n",
       "    }\n",
       "</style>\n",
       "<table border=\"1\" class=\"dataframe\">\n",
       "  <thead>\n",
       "    <tr style=\"text-align: right;\">\n",
       "      <th></th>\n",
       "      <th>Rua</th>\n",
       "      <th>Bairro</th>\n",
       "      <th>Cidade</th>\n",
       "      <th>Metragem</th>\n",
       "      <th>Quartos</th>\n",
       "      <th>Banheiros</th>\n",
       "      <th>Vagas</th>\n",
       "      <th>valor_anuncio</th>\n",
       "    </tr>\n",
       "  </thead>\n",
       "  <tbody>\n",
       "    <tr>\n",
       "      <th>164</th>\n",
       "      <td>Estrada Velha da Penha, 120</td>\n",
       "      <td>Tatuapé</td>\n",
       "      <td>São Paulo</td>\n",
       "      <td>110</td>\n",
       "      <td>2</td>\n",
       "      <td>1</td>\n",
       "      <td>2</td>\n",
       "      <td>450000.00</td>\n",
       "    </tr>\n",
       "    <tr>\n",
       "      <th>323</th>\n",
       "      <td>Rua Professora Sebastiana Silva Minhoto</td>\n",
       "      <td>Tatuapé</td>\n",
       "      <td>São Paulo</td>\n",
       "      <td>147</td>\n",
       "      <td>2</td>\n",
       "      <td>3</td>\n",
       "      <td>3</td>\n",
       "      <td>690000.00</td>\n",
       "    </tr>\n",
       "    <tr>\n",
       "      <th>2076</th>\n",
       "      <td>Praça Louveira</td>\n",
       "      <td>Tatuapé</td>\n",
       "      <td>São Paulo</td>\n",
       "      <td>250</td>\n",
       "      <td>4</td>\n",
       "      <td>2</td>\n",
       "      <td>3</td>\n",
       "      <td>1350000.00</td>\n",
       "    </tr>\n",
       "    <tr>\n",
       "      <th>2179</th>\n",
       "      <td>Praça Louveira</td>\n",
       "      <td>Tatuapé</td>\n",
       "      <td>São Paulo</td>\n",
       "      <td>255</td>\n",
       "      <td>4</td>\n",
       "      <td>2</td>\n",
       "      <td>3</td>\n",
       "      <td>1350000.00</td>\n",
       "    </tr>\n",
       "    <tr>\n",
       "      <th>2429</th>\n",
       "      <td>Rua Ulisses Cruz, 106</td>\n",
       "      <td>Tatuapé</td>\n",
       "      <td>São Paulo</td>\n",
       "      <td>117</td>\n",
       "      <td>2</td>\n",
       "      <td>1</td>\n",
       "      <td>1</td>\n",
       "      <td>495000.00</td>\n",
       "    </tr>\n",
       "    <tr>\n",
       "      <th>3072</th>\n",
       "      <td>Rua Professor Carlos Zagotis</td>\n",
       "      <td>Tatuapé</td>\n",
       "      <td>São Paulo</td>\n",
       "      <td>200</td>\n",
       "      <td>3</td>\n",
       "      <td>3</td>\n",
       "      <td>2</td>\n",
       "      <td>950000.00</td>\n",
       "    </tr>\n",
       "    <tr>\n",
       "      <th>3867</th>\n",
       "      <td>Rua Aiarani, 24</td>\n",
       "      <td>Tatuapé</td>\n",
       "      <td>São Paulo</td>\n",
       "      <td>80</td>\n",
       "      <td>2</td>\n",
       "      <td>2</td>\n",
       "      <td>1</td>\n",
       "      <td>380000.00</td>\n",
       "    </tr>\n",
       "    <tr>\n",
       "      <th>4029</th>\n",
       "      <td>NaN</td>\n",
       "      <td>Tatuapé</td>\n",
       "      <td>São Paulo</td>\n",
       "      <td>220</td>\n",
       "      <td>4</td>\n",
       "      <td>3</td>\n",
       "      <td>2</td>\n",
       "      <td>885000.00</td>\n",
       "    </tr>\n",
       "    <tr>\n",
       "      <th>4285</th>\n",
       "      <td>Rua Gonçalves CreSão Pauloo</td>\n",
       "      <td>Tatuapé</td>\n",
       "      <td>São Paulo</td>\n",
       "      <td>220</td>\n",
       "      <td>3</td>\n",
       "      <td>1</td>\n",
       "      <td>4</td>\n",
       "      <td>1250000.00</td>\n",
       "    </tr>\n",
       "    <tr>\n",
       "      <th>5049</th>\n",
       "      <td>Rua Perucaba, 153</td>\n",
       "      <td>Tatuapé</td>\n",
       "      <td>São Paulo</td>\n",
       "      <td>290</td>\n",
       "      <td>2</td>\n",
       "      <td>3</td>\n",
       "      <td>5</td>\n",
       "      <td>1700000.00</td>\n",
       "    </tr>\n",
       "    <tr>\n",
       "      <th>5212</th>\n",
       "      <td>Rua Engenheiro Reynaldo Cajado</td>\n",
       "      <td>Tatuapé</td>\n",
       "      <td>São Paulo</td>\n",
       "      <td>200</td>\n",
       "      <td>3</td>\n",
       "      <td>3</td>\n",
       "      <td>4</td>\n",
       "      <td>1270000.00</td>\n",
       "    </tr>\n",
       "    <tr>\n",
       "      <th>5618</th>\n",
       "      <td>Rua Perucaba, 153</td>\n",
       "      <td>Tatuapé</td>\n",
       "      <td>São Paulo</td>\n",
       "      <td>295</td>\n",
       "      <td>2</td>\n",
       "      <td>3</td>\n",
       "      <td>5</td>\n",
       "      <td>1700000.00</td>\n",
       "    </tr>\n",
       "    <tr>\n",
       "      <th>7504</th>\n",
       "      <td>Estrada Velha da Penha, , 441</td>\n",
       "      <td>Tatuapé</td>\n",
       "      <td>São Paulo</td>\n",
       "      <td>125</td>\n",
       "      <td>2</td>\n",
       "      <td>2</td>\n",
       "      <td>2</td>\n",
       "      <td>530000.00</td>\n",
       "    </tr>\n",
       "    <tr>\n",
       "      <th>7694</th>\n",
       "      <td>Estrada Velha da Penha, , 441</td>\n",
       "      <td>Tatuapé</td>\n",
       "      <td>São Paulo</td>\n",
       "      <td>130</td>\n",
       "      <td>2</td>\n",
       "      <td>2</td>\n",
       "      <td>2</td>\n",
       "      <td>530000.00</td>\n",
       "    </tr>\n",
       "    <tr>\n",
       "      <th>7846</th>\n",
       "      <td>Rua Irmãos Leme</td>\n",
       "      <td>Tatuapé</td>\n",
       "      <td>São Paulo</td>\n",
       "      <td>180</td>\n",
       "      <td>2</td>\n",
       "      <td>3</td>\n",
       "      <td>2</td>\n",
       "      <td>800000.00</td>\n",
       "    </tr>\n",
       "    <tr>\n",
       "      <th>8404</th>\n",
       "      <td>Estrada Velha da Penha, , 441</td>\n",
       "      <td>Tatuapé</td>\n",
       "      <td>São Paulo</td>\n",
       "      <td>130</td>\n",
       "      <td>2</td>\n",
       "      <td>2</td>\n",
       "      <td>2</td>\n",
       "      <td>530000.00</td>\n",
       "    </tr>\n",
       "    <tr>\n",
       "      <th>8764</th>\n",
       "      <td>NaN</td>\n",
       "      <td>Tatuapé</td>\n",
       "      <td>São Paulo</td>\n",
       "      <td>234</td>\n",
       "      <td>5</td>\n",
       "      <td>3</td>\n",
       "      <td>2</td>\n",
       "      <td>690000.00</td>\n",
       "    </tr>\n",
       "    <tr>\n",
       "      <th>9295</th>\n",
       "      <td>NaN</td>\n",
       "      <td>Tatuapé</td>\n",
       "      <td>São Paulo</td>\n",
       "      <td>267</td>\n",
       "      <td>4</td>\n",
       "      <td>3</td>\n",
       "      <td>4</td>\n",
       "      <td>890000.00</td>\n",
       "    </tr>\n",
       "    <tr>\n",
       "      <th>9599</th>\n",
       "      <td>Rua Martim Pescador, 124</td>\n",
       "      <td>Tatuapé</td>\n",
       "      <td>São Paulo</td>\n",
       "      <td>94</td>\n",
       "      <td>2</td>\n",
       "      <td>1</td>\n",
       "      <td>1</td>\n",
       "      <td>750000.00</td>\n",
       "    </tr>\n",
       "    <tr>\n",
       "      <th>9775</th>\n",
       "      <td>NaN</td>\n",
       "      <td>Tatuapé</td>\n",
       "      <td>São Paulo</td>\n",
       "      <td>228</td>\n",
       "      <td>3</td>\n",
       "      <td>3</td>\n",
       "      <td>3</td>\n",
       "      <td>1700000.00</td>\n",
       "    </tr>\n",
       "  </tbody>\n",
       "</table>\n",
       "</div>"
      ],
      "text/plain": [
       "                                          Rua   Bairro     Cidade  Metragem  \\\n",
       "164              Estrada Velha da Penha, 120   Tatuapé  São Paulo       110   \n",
       "323   Rua Professora Sebastiana Silva Minhoto  Tatuapé  São Paulo       147   \n",
       "2076                           Praça Louveira  Tatuapé  São Paulo       250   \n",
       "2179                           Praça Louveira  Tatuapé  São Paulo       255   \n",
       "2429                   Rua Ulisses Cruz, 106   Tatuapé  São Paulo       117   \n",
       "3072             Rua Professor Carlos Zagotis  Tatuapé  São Paulo       200   \n",
       "3867                         Rua Aiarani, 24   Tatuapé  São Paulo        80   \n",
       "4029                                      NaN  Tatuapé  São Paulo       220   \n",
       "4285              Rua Gonçalves CreSão Pauloo  Tatuapé  São Paulo       220   \n",
       "5049                       Rua Perucaba, 153   Tatuapé  São Paulo       290   \n",
       "5212           Rua Engenheiro Reynaldo Cajado  Tatuapé  São Paulo       200   \n",
       "5618                       Rua Perucaba, 153   Tatuapé  São Paulo       295   \n",
       "7504           Estrada Velha da Penha, , 441   Tatuapé  São Paulo       125   \n",
       "7694           Estrada Velha da Penha, , 441   Tatuapé  São Paulo       130   \n",
       "7846                          Rua Irmãos Leme  Tatuapé  São Paulo       180   \n",
       "8404           Estrada Velha da Penha, , 441   Tatuapé  São Paulo       130   \n",
       "8764                                      NaN  Tatuapé  São Paulo       234   \n",
       "9295                                      NaN  Tatuapé  São Paulo       267   \n",
       "9599                Rua Martim Pescador, 124   Tatuapé  São Paulo        94   \n",
       "9775                                      NaN  Tatuapé  São Paulo       228   \n",
       "\n",
       "      Quartos  Banheiros  Vagas  valor_anuncio  \n",
       "164         2          1      2      450000.00  \n",
       "323         2          3      3      690000.00  \n",
       "2076        4          2      3     1350000.00  \n",
       "2179        4          2      3     1350000.00  \n",
       "2429        2          1      1      495000.00  \n",
       "3072        3          3      2      950000.00  \n",
       "3867        2          2      1      380000.00  \n",
       "4029        4          3      2      885000.00  \n",
       "4285        3          1      4     1250000.00  \n",
       "5049        2          3      5     1700000.00  \n",
       "5212        3          3      4     1270000.00  \n",
       "5618        2          3      5     1700000.00  \n",
       "7504        2          2      2      530000.00  \n",
       "7694        2          2      2      530000.00  \n",
       "7846        2          3      2      800000.00  \n",
       "8404        2          2      2      530000.00  \n",
       "8764        5          3      2      690000.00  \n",
       "9295        4          3      4      890000.00  \n",
       "9599        2          1      1      750000.00  \n",
       "9775        3          3      3     1700000.00  "
      ]
     },
     "execution_count": 25,
     "metadata": {},
     "output_type": "execute_result"
    }
   ],
   "source": [
    "# Forma 1:\n",
    "df[df['Bairro'] == 'Tatuapé']"
   ]
  },
  {
   "cell_type": "code",
   "execution_count": 26,
   "metadata": {},
   "outputs": [
    {
     "data": {
      "text/html": [
       "<div>\n",
       "<style scoped>\n",
       "    .dataframe tbody tr th:only-of-type {\n",
       "        vertical-align: middle;\n",
       "    }\n",
       "\n",
       "    .dataframe tbody tr th {\n",
       "        vertical-align: top;\n",
       "    }\n",
       "\n",
       "    .dataframe thead th {\n",
       "        text-align: right;\n",
       "    }\n",
       "</style>\n",
       "<table border=\"1\" class=\"dataframe\">\n",
       "  <thead>\n",
       "    <tr style=\"text-align: right;\">\n",
       "      <th></th>\n",
       "      <th>Rua</th>\n",
       "      <th>Bairro</th>\n",
       "      <th>Cidade</th>\n",
       "      <th>Metragem</th>\n",
       "      <th>Quartos</th>\n",
       "      <th>Banheiros</th>\n",
       "      <th>Vagas</th>\n",
       "      <th>valor_anuncio</th>\n",
       "    </tr>\n",
       "  </thead>\n",
       "  <tbody>\n",
       "    <tr>\n",
       "      <th>164</th>\n",
       "      <td>Estrada Velha da Penha, 120</td>\n",
       "      <td>Tatuapé</td>\n",
       "      <td>São Paulo</td>\n",
       "      <td>110</td>\n",
       "      <td>2</td>\n",
       "      <td>1</td>\n",
       "      <td>2</td>\n",
       "      <td>450000.00</td>\n",
       "    </tr>\n",
       "    <tr>\n",
       "      <th>323</th>\n",
       "      <td>Rua Professora Sebastiana Silva Minhoto</td>\n",
       "      <td>Tatuapé</td>\n",
       "      <td>São Paulo</td>\n",
       "      <td>147</td>\n",
       "      <td>2</td>\n",
       "      <td>3</td>\n",
       "      <td>3</td>\n",
       "      <td>690000.00</td>\n",
       "    </tr>\n",
       "    <tr>\n",
       "      <th>2076</th>\n",
       "      <td>Praça Louveira</td>\n",
       "      <td>Tatuapé</td>\n",
       "      <td>São Paulo</td>\n",
       "      <td>250</td>\n",
       "      <td>4</td>\n",
       "      <td>2</td>\n",
       "      <td>3</td>\n",
       "      <td>1350000.00</td>\n",
       "    </tr>\n",
       "    <tr>\n",
       "      <th>2179</th>\n",
       "      <td>Praça Louveira</td>\n",
       "      <td>Tatuapé</td>\n",
       "      <td>São Paulo</td>\n",
       "      <td>255</td>\n",
       "      <td>4</td>\n",
       "      <td>2</td>\n",
       "      <td>3</td>\n",
       "      <td>1350000.00</td>\n",
       "    </tr>\n",
       "    <tr>\n",
       "      <th>2429</th>\n",
       "      <td>Rua Ulisses Cruz, 106</td>\n",
       "      <td>Tatuapé</td>\n",
       "      <td>São Paulo</td>\n",
       "      <td>117</td>\n",
       "      <td>2</td>\n",
       "      <td>1</td>\n",
       "      <td>1</td>\n",
       "      <td>495000.00</td>\n",
       "    </tr>\n",
       "    <tr>\n",
       "      <th>3072</th>\n",
       "      <td>Rua Professor Carlos Zagotis</td>\n",
       "      <td>Tatuapé</td>\n",
       "      <td>São Paulo</td>\n",
       "      <td>200</td>\n",
       "      <td>3</td>\n",
       "      <td>3</td>\n",
       "      <td>2</td>\n",
       "      <td>950000.00</td>\n",
       "    </tr>\n",
       "    <tr>\n",
       "      <th>3867</th>\n",
       "      <td>Rua Aiarani, 24</td>\n",
       "      <td>Tatuapé</td>\n",
       "      <td>São Paulo</td>\n",
       "      <td>80</td>\n",
       "      <td>2</td>\n",
       "      <td>2</td>\n",
       "      <td>1</td>\n",
       "      <td>380000.00</td>\n",
       "    </tr>\n",
       "    <tr>\n",
       "      <th>4029</th>\n",
       "      <td>NaN</td>\n",
       "      <td>Tatuapé</td>\n",
       "      <td>São Paulo</td>\n",
       "      <td>220</td>\n",
       "      <td>4</td>\n",
       "      <td>3</td>\n",
       "      <td>2</td>\n",
       "      <td>885000.00</td>\n",
       "    </tr>\n",
       "    <tr>\n",
       "      <th>4285</th>\n",
       "      <td>Rua Gonçalves CreSão Pauloo</td>\n",
       "      <td>Tatuapé</td>\n",
       "      <td>São Paulo</td>\n",
       "      <td>220</td>\n",
       "      <td>3</td>\n",
       "      <td>1</td>\n",
       "      <td>4</td>\n",
       "      <td>1250000.00</td>\n",
       "    </tr>\n",
       "    <tr>\n",
       "      <th>5049</th>\n",
       "      <td>Rua Perucaba, 153</td>\n",
       "      <td>Tatuapé</td>\n",
       "      <td>São Paulo</td>\n",
       "      <td>290</td>\n",
       "      <td>2</td>\n",
       "      <td>3</td>\n",
       "      <td>5</td>\n",
       "      <td>1700000.00</td>\n",
       "    </tr>\n",
       "    <tr>\n",
       "      <th>5212</th>\n",
       "      <td>Rua Engenheiro Reynaldo Cajado</td>\n",
       "      <td>Tatuapé</td>\n",
       "      <td>São Paulo</td>\n",
       "      <td>200</td>\n",
       "      <td>3</td>\n",
       "      <td>3</td>\n",
       "      <td>4</td>\n",
       "      <td>1270000.00</td>\n",
       "    </tr>\n",
       "    <tr>\n",
       "      <th>5618</th>\n",
       "      <td>Rua Perucaba, 153</td>\n",
       "      <td>Tatuapé</td>\n",
       "      <td>São Paulo</td>\n",
       "      <td>295</td>\n",
       "      <td>2</td>\n",
       "      <td>3</td>\n",
       "      <td>5</td>\n",
       "      <td>1700000.00</td>\n",
       "    </tr>\n",
       "    <tr>\n",
       "      <th>7504</th>\n",
       "      <td>Estrada Velha da Penha, , 441</td>\n",
       "      <td>Tatuapé</td>\n",
       "      <td>São Paulo</td>\n",
       "      <td>125</td>\n",
       "      <td>2</td>\n",
       "      <td>2</td>\n",
       "      <td>2</td>\n",
       "      <td>530000.00</td>\n",
       "    </tr>\n",
       "    <tr>\n",
       "      <th>7694</th>\n",
       "      <td>Estrada Velha da Penha, , 441</td>\n",
       "      <td>Tatuapé</td>\n",
       "      <td>São Paulo</td>\n",
       "      <td>130</td>\n",
       "      <td>2</td>\n",
       "      <td>2</td>\n",
       "      <td>2</td>\n",
       "      <td>530000.00</td>\n",
       "    </tr>\n",
       "    <tr>\n",
       "      <th>7846</th>\n",
       "      <td>Rua Irmãos Leme</td>\n",
       "      <td>Tatuapé</td>\n",
       "      <td>São Paulo</td>\n",
       "      <td>180</td>\n",
       "      <td>2</td>\n",
       "      <td>3</td>\n",
       "      <td>2</td>\n",
       "      <td>800000.00</td>\n",
       "    </tr>\n",
       "    <tr>\n",
       "      <th>8404</th>\n",
       "      <td>Estrada Velha da Penha, , 441</td>\n",
       "      <td>Tatuapé</td>\n",
       "      <td>São Paulo</td>\n",
       "      <td>130</td>\n",
       "      <td>2</td>\n",
       "      <td>2</td>\n",
       "      <td>2</td>\n",
       "      <td>530000.00</td>\n",
       "    </tr>\n",
       "    <tr>\n",
       "      <th>8764</th>\n",
       "      <td>NaN</td>\n",
       "      <td>Tatuapé</td>\n",
       "      <td>São Paulo</td>\n",
       "      <td>234</td>\n",
       "      <td>5</td>\n",
       "      <td>3</td>\n",
       "      <td>2</td>\n",
       "      <td>690000.00</td>\n",
       "    </tr>\n",
       "    <tr>\n",
       "      <th>9295</th>\n",
       "      <td>NaN</td>\n",
       "      <td>Tatuapé</td>\n",
       "      <td>São Paulo</td>\n",
       "      <td>267</td>\n",
       "      <td>4</td>\n",
       "      <td>3</td>\n",
       "      <td>4</td>\n",
       "      <td>890000.00</td>\n",
       "    </tr>\n",
       "    <tr>\n",
       "      <th>9599</th>\n",
       "      <td>Rua Martim Pescador, 124</td>\n",
       "      <td>Tatuapé</td>\n",
       "      <td>São Paulo</td>\n",
       "      <td>94</td>\n",
       "      <td>2</td>\n",
       "      <td>1</td>\n",
       "      <td>1</td>\n",
       "      <td>750000.00</td>\n",
       "    </tr>\n",
       "    <tr>\n",
       "      <th>9775</th>\n",
       "      <td>NaN</td>\n",
       "      <td>Tatuapé</td>\n",
       "      <td>São Paulo</td>\n",
       "      <td>228</td>\n",
       "      <td>3</td>\n",
       "      <td>3</td>\n",
       "      <td>3</td>\n",
       "      <td>1700000.00</td>\n",
       "    </tr>\n",
       "  </tbody>\n",
       "</table>\n",
       "</div>"
      ],
      "text/plain": [
       "                                          Rua   Bairro     Cidade  Metragem  \\\n",
       "164              Estrada Velha da Penha, 120   Tatuapé  São Paulo       110   \n",
       "323   Rua Professora Sebastiana Silva Minhoto  Tatuapé  São Paulo       147   \n",
       "2076                           Praça Louveira  Tatuapé  São Paulo       250   \n",
       "2179                           Praça Louveira  Tatuapé  São Paulo       255   \n",
       "2429                   Rua Ulisses Cruz, 106   Tatuapé  São Paulo       117   \n",
       "3072             Rua Professor Carlos Zagotis  Tatuapé  São Paulo       200   \n",
       "3867                         Rua Aiarani, 24   Tatuapé  São Paulo        80   \n",
       "4029                                      NaN  Tatuapé  São Paulo       220   \n",
       "4285              Rua Gonçalves CreSão Pauloo  Tatuapé  São Paulo       220   \n",
       "5049                       Rua Perucaba, 153   Tatuapé  São Paulo       290   \n",
       "5212           Rua Engenheiro Reynaldo Cajado  Tatuapé  São Paulo       200   \n",
       "5618                       Rua Perucaba, 153   Tatuapé  São Paulo       295   \n",
       "7504           Estrada Velha da Penha, , 441   Tatuapé  São Paulo       125   \n",
       "7694           Estrada Velha da Penha, , 441   Tatuapé  São Paulo       130   \n",
       "7846                          Rua Irmãos Leme  Tatuapé  São Paulo       180   \n",
       "8404           Estrada Velha da Penha, , 441   Tatuapé  São Paulo       130   \n",
       "8764                                      NaN  Tatuapé  São Paulo       234   \n",
       "9295                                      NaN  Tatuapé  São Paulo       267   \n",
       "9599                Rua Martim Pescador, 124   Tatuapé  São Paulo        94   \n",
       "9775                                      NaN  Tatuapé  São Paulo       228   \n",
       "\n",
       "      Quartos  Banheiros  Vagas  valor_anuncio  \n",
       "164         2          1      2      450000.00  \n",
       "323         2          3      3      690000.00  \n",
       "2076        4          2      3     1350000.00  \n",
       "2179        4          2      3     1350000.00  \n",
       "2429        2          1      1      495000.00  \n",
       "3072        3          3      2      950000.00  \n",
       "3867        2          2      1      380000.00  \n",
       "4029        4          3      2      885000.00  \n",
       "4285        3          1      4     1250000.00  \n",
       "5049        2          3      5     1700000.00  \n",
       "5212        3          3      4     1270000.00  \n",
       "5618        2          3      5     1700000.00  \n",
       "7504        2          2      2      530000.00  \n",
       "7694        2          2      2      530000.00  \n",
       "7846        2          3      2      800000.00  \n",
       "8404        2          2      2      530000.00  \n",
       "8764        5          3      2      690000.00  \n",
       "9295        4          3      4      890000.00  \n",
       "9599        2          1      1      750000.00  \n",
       "9775        3          3      3     1700000.00  "
      ]
     },
     "execution_count": 26,
     "metadata": {},
     "output_type": "execute_result"
    }
   ],
   "source": [
    "# Forma 2:\n",
    "df.query(\"Bairro == 'Tatuapé'\")"
   ]
  },
  {
   "cell_type": "markdown",
   "metadata": {},
   "source": [
    "## 3 - Explorar alguns gráficos na documentação e aplicar nas demais colunas do DF, tentar colocar alguma conclusão. (Thiago)\n"
   ]
  },
  {
   "cell_type": "markdown",
   "metadata": {},
   "source": [
    "### Contagem de imóveis por número de quartos\n",
    "A maioria dos imóveis possui 3 e 4 quartos"
   ]
  },
  {
   "cell_type": "code",
   "execution_count": 27,
   "metadata": {},
   "outputs": [
    {
     "data": {
      "text/plain": [
       "<AxesSubplot:>"
      ]
     },
     "execution_count": 27,
     "metadata": {},
     "output_type": "execute_result"
    },
    {
     "data": {
      "image/png": "[encoded data removed]",
      "text/plain": [
       "<Figure size 432x288 with 1 Axes>"
      ]
     },
     "metadata": {
      "needs_background": "light"
     },
     "output_type": "display_data"
    }
   ],
   "source": [
    "df['Quartos'].value_counts().plot.barh()"
   ]
  },
  {
   "cell_type": "markdown",
   "metadata": {},
   "source": [
    "### Distribuição dos Valores\n",
    "A maioria dos imóveis está abaixo de 10 Mi"
   ]
  },
  {
   "cell_type": "code",
   "execution_count": 28,
   "metadata": {},
   "outputs": [
    {
     "data": {
      "text/plain": [
       "<AxesSubplot:ylabel='Frequency'>"
      ]
     },
     "execution_count": 28,
     "metadata": {},
     "output_type": "execute_result"
    },
    {
     "data": {
      "image/png": "[encoded data removed]",
      "text/plain": [
       "<Figure size 432x288 with 1 Axes>"
      ]
     },
     "metadata": {
      "needs_background": "light"
     },
     "output_type": "display_data"
    }
   ],
   "source": [
    "df['valor_anuncio'].plot.hist()"
   ]
  },
  {
   "cell_type": "markdown",
   "metadata": {},
   "source": [
    "### Contagem de imóveis por Quantidade de Vagas\n",
    "Há mais imóveis com duas ou mais vagas do que com apenas uma"
   ]
  },
  {
   "cell_type": "code",
   "execution_count": 29,
   "metadata": {},
   "outputs": [
    {
     "data": {
      "text/plain": [
       "<AxesSubplot:>"
      ]
     },
     "execution_count": 29,
     "metadata": {},
     "output_type": "execute_result"
    },
    {
     "data": {
      "image/png": "[encoded data removed]",
      "text/plain": [
       "<Figure size 432x288 with 1 Axes>"
      ]
     },
     "metadata": {
      "needs_background": "light"
     },
     "output_type": "display_data"
    }
   ],
   "source": [
    "df['Vagas'].value_counts().plot.bar()"
   ]
  },
  {
   "cell_type": "markdown",
   "metadata": {},
   "source": [
    "### Histogramas sobrepostos (Qtd de Banheiros e Quartos)\n",
    "Cerca de 3 mil imóveis possuem pelo menos 5 banheiros"
   ]
  },
  {
   "cell_type": "code",
   "execution_count": 30,
   "metadata": {},
   "outputs": [
    {
     "data": {
      "text/plain": [
       "<AxesSubplot:ylabel='Frequency'>"
      ]
     },
     "execution_count": 30,
     "metadata": {},
     "output_type": "execute_result"
    },
    {
     "data": {
      "image/png": "[encoded data removed]",
      "text/plain": [
       "<Figure size 432x288 with 1 Axes>"
      ]
     },
     "metadata": {
      "needs_background": "light"
     },
     "output_type": "display_data"
    }
   ],
   "source": [
    "df[['Banheiros', 'Quartos']].plot.hist(alpha=0.5)"
   ]
  },
  {
   "cell_type": "markdown",
   "metadata": {},
   "source": [
    "## 4 - Pegar outras estatísticas dos dados: média, mediana, min, max. (Vivi)\n"
   ]
  },
  {
   "cell_type": "code",
   "execution_count": 31,
   "metadata": {},
   "outputs": [
    {
     "data": {
      "text/html": [
       "<div>\n",
       "<style scoped>\n",
       "    .dataframe tbody tr th:only-of-type {\n",
       "        vertical-align: middle;\n",
       "    }\n",
       "\n",
       "    .dataframe tbody tr th {\n",
       "        vertical-align: top;\n",
       "    }\n",
       "\n",
       "    .dataframe thead th {\n",
       "        text-align: right;\n",
       "    }\n",
       "</style>\n",
       "<table border=\"1\" class=\"dataframe\">\n",
       "  <thead>\n",
       "    <tr style=\"text-align: right;\">\n",
       "      <th></th>\n",
       "      <th>Metragem</th>\n",
       "      <th>Quartos</th>\n",
       "      <th>Banheiros</th>\n",
       "      <th>Vagas</th>\n",
       "      <th>valor_anuncio</th>\n",
       "    </tr>\n",
       "  </thead>\n",
       "  <tbody>\n",
       "    <tr>\n",
       "      <th>count</th>\n",
       "      <td>9156.00</td>\n",
       "      <td>9156.00</td>\n",
       "      <td>9156.00</td>\n",
       "      <td>9156.00</td>\n",
       "      <td>9156.00</td>\n",
       "    </tr>\n",
       "    <tr>\n",
       "      <th>mean</th>\n",
       "      <td>434.42</td>\n",
       "      <td>3.45</td>\n",
       "      <td>3.80</td>\n",
       "      <td>3.96</td>\n",
       "      <td>3052202.96</td>\n",
       "    </tr>\n",
       "    <tr>\n",
       "      <th>std</th>\n",
       "      <td>7856.42</td>\n",
       "      <td>1.05</td>\n",
       "      <td>1.97</td>\n",
       "      <td>2.60</td>\n",
       "      <td>3944208.19</td>\n",
       "    </tr>\n",
       "    <tr>\n",
       "      <th>min</th>\n",
       "      <td>10.00</td>\n",
       "      <td>1.00</td>\n",
       "      <td>1.00</td>\n",
       "      <td>1.00</td>\n",
       "      <td>13000.00</td>\n",
       "    </tr>\n",
       "    <tr>\n",
       "      <th>25%</th>\n",
       "      <td>168.00</td>\n",
       "      <td>3.00</td>\n",
       "      <td>2.00</td>\n",
       "      <td>2.00</td>\n",
       "      <td>890000.00</td>\n",
       "    </tr>\n",
       "    <tr>\n",
       "      <th>50%</th>\n",
       "      <td>276.00</td>\n",
       "      <td>3.00</td>\n",
       "      <td>4.00</td>\n",
       "      <td>4.00</td>\n",
       "      <td>1800000.00</td>\n",
       "    </tr>\n",
       "    <tr>\n",
       "      <th>75%</th>\n",
       "      <td>450.00</td>\n",
       "      <td>4.00</td>\n",
       "      <td>5.00</td>\n",
       "      <td>5.00</td>\n",
       "      <td>3500000.00</td>\n",
       "    </tr>\n",
       "    <tr>\n",
       "      <th>max</th>\n",
       "      <td>750000.00</td>\n",
       "      <td>16.00</td>\n",
       "      <td>40.00</td>\n",
       "      <td>50.00</td>\n",
       "      <td>65000000.00</td>\n",
       "    </tr>\n",
       "  </tbody>\n",
       "</table>\n",
       "</div>"
      ],
      "text/plain": [
       "       Metragem  Quartos  Banheiros   Vagas  valor_anuncio\n",
       "count   9156.00  9156.00    9156.00 9156.00        9156.00\n",
       "mean     434.42     3.45       3.80    3.96     3052202.96\n",
       "std     7856.42     1.05       1.97    2.60     3944208.19\n",
       "min       10.00     1.00       1.00    1.00       13000.00\n",
       "25%      168.00     3.00       2.00    2.00      890000.00\n",
       "50%      276.00     3.00       4.00    4.00     1800000.00\n",
       "75%      450.00     4.00       5.00    5.00     3500000.00\n",
       "max   750000.00    16.00      40.00   50.00    65000000.00"
      ]
     },
     "execution_count": 31,
     "metadata": {},
     "output_type": "execute_result"
    }
   ],
   "source": [
    "df.describe()"
   ]
  },
  {
   "cell_type": "markdown",
   "metadata": {},
   "source": [
    "## 5 - Descobrir quais são os bairros que não têm nome de rua. (Vivi)\n",
    "Os 10 Bairros com mais imóveis que não possuem dado de Rua"
   ]
  },
  {
   "cell_type": "code",
   "execution_count": 32,
   "metadata": {},
   "outputs": [
    {
     "data": {
      "text/plain": [
       "Jardim Guedala       156\n",
       "Alto de Pinheiros    151\n",
       "Jardim Paulista      126\n",
       "Jardim Europa        107\n",
       "Jardim Leonor        107\n",
       "Cidade Jardim         96\n",
       "Morumbi               77\n",
       "Vila Madalena         69\n",
       "Brooklin Paulista     66\n",
       "Jardim América        64\n",
       "Name: Bairro, dtype: int64"
      ]
     },
     "execution_count": 32,
     "metadata": {},
     "output_type": "execute_result"
    }
   ],
   "source": [
    "df[df['Rua'].isna()]['Bairro'].value_counts().head(10)"
   ]
  },
  {
   "cell_type": "markdown",
   "metadata": {},
   "source": [
    "# Aula 02"
   ]
  },
  {
   "cell_type": "code",
   "execution_count": 33,
   "metadata": {},
   "outputs": [
    {
     "data": {
      "text/html": [
       "<div>\n",
       "<style scoped>\n",
       "    .dataframe tbody tr th:only-of-type {\n",
       "        vertical-align: middle;\n",
       "    }\n",
       "\n",
       "    .dataframe tbody tr th {\n",
       "        vertical-align: top;\n",
       "    }\n",
       "\n",
       "    .dataframe thead th {\n",
       "        text-align: right;\n",
       "    }\n",
       "</style>\n",
       "<table border=\"1\" class=\"dataframe\">\n",
       "  <thead>\n",
       "    <tr style=\"text-align: right;\">\n",
       "      <th></th>\n",
       "      <th>Rua</th>\n",
       "      <th>Bairro</th>\n",
       "      <th>Cidade</th>\n",
       "      <th>Metragem</th>\n",
       "      <th>Quartos</th>\n",
       "      <th>Banheiros</th>\n",
       "      <th>Vagas</th>\n",
       "      <th>valor_anuncio</th>\n",
       "    </tr>\n",
       "  </thead>\n",
       "  <tbody>\n",
       "    <tr>\n",
       "      <th>0</th>\n",
       "      <td>Avenida Itacira, 255</td>\n",
       "      <td>Planalto Paulista</td>\n",
       "      <td>São Paulo</td>\n",
       "      <td>1000</td>\n",
       "      <td>4</td>\n",
       "      <td>8</td>\n",
       "      <td>6</td>\n",
       "      <td>7000000.00</td>\n",
       "    </tr>\n",
       "    <tr>\n",
       "      <th>1</th>\n",
       "      <td>Rua Aurelia Perez Alvarez, 42</td>\n",
       "      <td>Jardim dos Estados</td>\n",
       "      <td>São Paulo</td>\n",
       "      <td>496</td>\n",
       "      <td>4</td>\n",
       "      <td>4</td>\n",
       "      <td>4</td>\n",
       "      <td>3700000.00</td>\n",
       "    </tr>\n",
       "    <tr>\n",
       "      <th>2</th>\n",
       "      <td>Rua Alba Valdez</td>\n",
       "      <td>Jardim Reimberg</td>\n",
       "      <td>São Paulo</td>\n",
       "      <td>125</td>\n",
       "      <td>4</td>\n",
       "      <td>3</td>\n",
       "      <td>2</td>\n",
       "      <td>380000.00</td>\n",
       "    </tr>\n",
       "    <tr>\n",
       "      <th>3</th>\n",
       "      <td>NaN</td>\n",
       "      <td>Jardim Morumbi</td>\n",
       "      <td>São Paulo</td>\n",
       "      <td>310</td>\n",
       "      <td>3</td>\n",
       "      <td>2</td>\n",
       "      <td>4</td>\n",
       "      <td>685000.00</td>\n",
       "    </tr>\n",
       "    <tr>\n",
       "      <th>4</th>\n",
       "      <td>Rua Tobias Barreto, 195</td>\n",
       "      <td>Mooca</td>\n",
       "      <td>São Paulo</td>\n",
       "      <td>100</td>\n",
       "      <td>3</td>\n",
       "      <td>2</td>\n",
       "      <td>2</td>\n",
       "      <td>540000.00</td>\n",
       "    </tr>\n",
       "  </tbody>\n",
       "</table>\n",
       "</div>"
      ],
      "text/plain": [
       "                              Rua              Bairro     Cidade  Metragem  \\\n",
       "0           Avenida Itacira, 255    Planalto Paulista  São Paulo      1000   \n",
       "1  Rua Aurelia Perez Alvarez, 42   Jardim dos Estados  São Paulo       496   \n",
       "2                 Rua Alba Valdez     Jardim Reimberg  São Paulo       125   \n",
       "3                             NaN      Jardim Morumbi  São Paulo       310   \n",
       "4        Rua Tobias Barreto, 195                Mooca  São Paulo       100   \n",
       "\n",
       "   Quartos  Banheiros  Vagas  valor_anuncio  \n",
       "0        4          8      6     7000000.00  \n",
       "1        4          4      4     3700000.00  \n",
       "2        4          3      2      380000.00  \n",
       "3        3          2      4      685000.00  \n",
       "4        3          2      2      540000.00  "
      ]
     },
     "execution_count": 33,
     "metadata": {},
     "output_type": "execute_result"
    }
   ],
   "source": [
    "df.head()"
   ]
  },
  {
   "cell_type": "code",
   "execution_count": 34,
   "metadata": {},
   "outputs": [
    {
     "data": {
      "text/html": [
       "<div>\n",
       "<style scoped>\n",
       "    .dataframe tbody tr th:only-of-type {\n",
       "        vertical-align: middle;\n",
       "    }\n",
       "\n",
       "    .dataframe tbody tr th {\n",
       "        vertical-align: top;\n",
       "    }\n",
       "\n",
       "    .dataframe thead th {\n",
       "        text-align: right;\n",
       "    }\n",
       "</style>\n",
       "<table border=\"1\" class=\"dataframe\">\n",
       "  <thead>\n",
       "    <tr style=\"text-align: right;\">\n",
       "      <th></th>\n",
       "      <th>Metragem</th>\n",
       "      <th>Quartos</th>\n",
       "      <th>Banheiros</th>\n",
       "      <th>Vagas</th>\n",
       "      <th>valor_anuncio</th>\n",
       "    </tr>\n",
       "  </thead>\n",
       "  <tbody>\n",
       "    <tr>\n",
       "      <th>count</th>\n",
       "      <td>9156.00</td>\n",
       "      <td>9156.00</td>\n",
       "      <td>9156.00</td>\n",
       "      <td>9156.00</td>\n",
       "      <td>9156.00</td>\n",
       "    </tr>\n",
       "    <tr>\n",
       "      <th>mean</th>\n",
       "      <td>434.42</td>\n",
       "      <td>3.45</td>\n",
       "      <td>3.80</td>\n",
       "      <td>3.96</td>\n",
       "      <td>3052202.96</td>\n",
       "    </tr>\n",
       "    <tr>\n",
       "      <th>std</th>\n",
       "      <td>7856.42</td>\n",
       "      <td>1.05</td>\n",
       "      <td>1.97</td>\n",
       "      <td>2.60</td>\n",
       "      <td>3944208.19</td>\n",
       "    </tr>\n",
       "    <tr>\n",
       "      <th>min</th>\n",
       "      <td>10.00</td>\n",
       "      <td>1.00</td>\n",
       "      <td>1.00</td>\n",
       "      <td>1.00</td>\n",
       "      <td>13000.00</td>\n",
       "    </tr>\n",
       "    <tr>\n",
       "      <th>25%</th>\n",
       "      <td>168.00</td>\n",
       "      <td>3.00</td>\n",
       "      <td>2.00</td>\n",
       "      <td>2.00</td>\n",
       "      <td>890000.00</td>\n",
       "    </tr>\n",
       "    <tr>\n",
       "      <th>50%</th>\n",
       "      <td>276.00</td>\n",
       "      <td>3.00</td>\n",
       "      <td>4.00</td>\n",
       "      <td>4.00</td>\n",
       "      <td>1800000.00</td>\n",
       "    </tr>\n",
       "    <tr>\n",
       "      <th>75%</th>\n",
       "      <td>450.00</td>\n",
       "      <td>4.00</td>\n",
       "      <td>5.00</td>\n",
       "      <td>5.00</td>\n",
       "      <td>3500000.00</td>\n",
       "    </tr>\n",
       "    <tr>\n",
       "      <th>max</th>\n",
       "      <td>750000.00</td>\n",
       "      <td>16.00</td>\n",
       "      <td>40.00</td>\n",
       "      <td>50.00</td>\n",
       "      <td>65000000.00</td>\n",
       "    </tr>\n",
       "  </tbody>\n",
       "</table>\n",
       "</div>"
      ],
      "text/plain": [
       "       Metragem  Quartos  Banheiros   Vagas  valor_anuncio\n",
       "count   9156.00  9156.00    9156.00 9156.00        9156.00\n",
       "mean     434.42     3.45       3.80    3.96     3052202.96\n",
       "std     7856.42     1.05       1.97    2.60     3944208.19\n",
       "min       10.00     1.00       1.00    1.00       13000.00\n",
       "25%      168.00     3.00       2.00    2.00      890000.00\n",
       "50%      276.00     3.00       4.00    4.00     1800000.00\n",
       "75%      450.00     4.00       5.00    5.00     3500000.00\n",
       "max   750000.00    16.00      40.00   50.00    65000000.00"
      ]
     },
     "execution_count": 34,
     "metadata": {},
     "output_type": "execute_result"
    }
   ],
   "source": [
    "df.describe()"
   ]
  },
  {
   "cell_type": "code",
   "execution_count": 35,
   "metadata": {},
   "outputs": [
    {
     "data": {
      "text/html": [
       "<div>\n",
       "<style scoped>\n",
       "    .dataframe tbody tr th:only-of-type {\n",
       "        vertical-align: middle;\n",
       "    }\n",
       "\n",
       "    .dataframe tbody tr th {\n",
       "        vertical-align: top;\n",
       "    }\n",
       "\n",
       "    .dataframe thead th {\n",
       "        text-align: right;\n",
       "    }\n",
       "</style>\n",
       "<table border=\"1\" class=\"dataframe\">\n",
       "  <thead>\n",
       "    <tr style=\"text-align: right;\">\n",
       "      <th></th>\n",
       "      <th>Rua</th>\n",
       "      <th>Bairro</th>\n",
       "      <th>Cidade</th>\n",
       "    </tr>\n",
       "  </thead>\n",
       "  <tbody>\n",
       "    <tr>\n",
       "      <th>count</th>\n",
       "      <td>6107</td>\n",
       "      <td>9146</td>\n",
       "      <td>9156</td>\n",
       "    </tr>\n",
       "    <tr>\n",
       "      <th>unique</th>\n",
       "      <td>3006</td>\n",
       "      <td>697</td>\n",
       "      <td>1</td>\n",
       "    </tr>\n",
       "    <tr>\n",
       "      <th>top</th>\n",
       "      <td>Rua Alberto Faria</td>\n",
       "      <td>Alto de Pinheiros</td>\n",
       "      <td>São Paulo</td>\n",
       "    </tr>\n",
       "    <tr>\n",
       "      <th>freq</th>\n",
       "      <td>24</td>\n",
       "      <td>369</td>\n",
       "      <td>9156</td>\n",
       "    </tr>\n",
       "  </tbody>\n",
       "</table>\n",
       "</div>"
      ],
      "text/plain": [
       "                      Rua             Bairro     Cidade\n",
       "count                6107               9146       9156\n",
       "unique               3006                697          1\n",
       "top     Rua Alberto Faria  Alto de Pinheiros  São Paulo\n",
       "freq                   24                369       9156"
      ]
     },
     "execution_count": 35,
     "metadata": {},
     "output_type": "execute_result"
    }
   ],
   "source": [
    "df[['Rua', 'Bairro', 'Cidade']].describe()"
   ]
  },
  {
   "cell_type": "code",
   "execution_count": 36,
   "metadata": {},
   "outputs": [
    {
     "data": {
      "image/png": "[encoded data removed]",
      "text/plain": [
       "<Figure size 720x576 with 1 Axes>"
      ]
     },
     "metadata": {
      "needs_background": "light"
     },
     "output_type": "display_data"
    }
   ],
   "source": [
    "plt.figure(figsize=(10,8))\n",
    "sns.set()\n",
    "ax = sns.histplot(data=df['valor_anuncio'], kde=True)\n",
    "plt.xlim((-50, 10000000))\n",
    "ax.set_title('Histograma Valor Imóveis');"
   ]
  },
  {
   "cell_type": "markdown",
   "metadata": {},
   "source": [
    "# Desafios\n",
    "## Criar uma escala de valores em milhões"
   ]
  },
  {
   "cell_type": "code",
   "execution_count": 39,
   "metadata": {},
   "outputs": [
    {
     "data": {
      "text/html": [
       "<div>\n",
       "<style scoped>\n",
       "    .dataframe tbody tr th:only-of-type {\n",
       "        vertical-align: middle;\n",
       "    }\n",
       "\n",
       "    .dataframe tbody tr th {\n",
       "        vertical-align: top;\n",
       "    }\n",
       "\n",
       "    .dataframe thead th {\n",
       "        text-align: right;\n",
       "    }\n",
       "</style>\n",
       "<table border=\"1\" class=\"dataframe\">\n",
       "  <thead>\n",
       "    <tr style=\"text-align: right;\">\n",
       "      <th></th>\n",
       "      <th>Rua</th>\n",
       "      <th>Bairro</th>\n",
       "      <th>Cidade</th>\n",
       "      <th>Metragem</th>\n",
       "      <th>Quartos</th>\n",
       "      <th>Banheiros</th>\n",
       "      <th>Vagas</th>\n",
       "      <th>valor_anuncio</th>\n",
       "      <th>valor_anuncio_mi</th>\n",
       "    </tr>\n",
       "  </thead>\n",
       "  <tbody>\n",
       "    <tr>\n",
       "      <th>0</th>\n",
       "      <td>Avenida Itacira, 255</td>\n",
       "      <td>Planalto Paulista</td>\n",
       "      <td>São Paulo</td>\n",
       "      <td>1000</td>\n",
       "      <td>4</td>\n",
       "      <td>8</td>\n",
       "      <td>6</td>\n",
       "      <td>7000000.00</td>\n",
       "      <td>7.00</td>\n",
       "    </tr>\n",
       "    <tr>\n",
       "      <th>1</th>\n",
       "      <td>Rua Aurelia Perez Alvarez, 42</td>\n",
       "      <td>Jardim dos Estados</td>\n",
       "      <td>São Paulo</td>\n",
       "      <td>496</td>\n",
       "      <td>4</td>\n",
       "      <td>4</td>\n",
       "      <td>4</td>\n",
       "      <td>3700000.00</td>\n",
       "      <td>3.70</td>\n",
       "    </tr>\n",
       "    <tr>\n",
       "      <th>2</th>\n",
       "      <td>Rua Alba Valdez</td>\n",
       "      <td>Jardim Reimberg</td>\n",
       "      <td>São Paulo</td>\n",
       "      <td>125</td>\n",
       "      <td>4</td>\n",
       "      <td>3</td>\n",
       "      <td>2</td>\n",
       "      <td>380000.00</td>\n",
       "      <td>0.38</td>\n",
       "    </tr>\n",
       "    <tr>\n",
       "      <th>3</th>\n",
       "      <td>NaN</td>\n",
       "      <td>Jardim Morumbi</td>\n",
       "      <td>São Paulo</td>\n",
       "      <td>310</td>\n",
       "      <td>3</td>\n",
       "      <td>2</td>\n",
       "      <td>4</td>\n",
       "      <td>685000.00</td>\n",
       "      <td>0.69</td>\n",
       "    </tr>\n",
       "    <tr>\n",
       "      <th>4</th>\n",
       "      <td>Rua Tobias Barreto, 195</td>\n",
       "      <td>Mooca</td>\n",
       "      <td>São Paulo</td>\n",
       "      <td>100</td>\n",
       "      <td>3</td>\n",
       "      <td>2</td>\n",
       "      <td>2</td>\n",
       "      <td>540000.00</td>\n",
       "      <td>0.54</td>\n",
       "    </tr>\n",
       "  </tbody>\n",
       "</table>\n",
       "</div>"
      ],
      "text/plain": [
       "                              Rua              Bairro     Cidade  Metragem  \\\n",
       "0           Avenida Itacira, 255    Planalto Paulista  São Paulo      1000   \n",
       "1  Rua Aurelia Perez Alvarez, 42   Jardim dos Estados  São Paulo       496   \n",
       "2                 Rua Alba Valdez     Jardim Reimberg  São Paulo       125   \n",
       "3                             NaN      Jardim Morumbi  São Paulo       310   \n",
       "4        Rua Tobias Barreto, 195                Mooca  São Paulo       100   \n",
       "\n",
       "   Quartos  Banheiros  Vagas  valor_anuncio  valor_anuncio_mi  \n",
       "0        4          8      6     7000000.00              7.00  \n",
       "1        4          4      4     3700000.00              3.70  \n",
       "2        4          3      2      380000.00              0.38  \n",
       "3        3          2      4      685000.00              0.69  \n",
       "4        3          2      2      540000.00              0.54  "
      ]
     },
     "execution_count": 39,
     "metadata": {},
     "output_type": "execute_result"
    }
   ],
   "source": [
    "df['valor_anuncio_mi'] = df['valor_anuncio']/1000000\n",
    "df.head()"
   ]
  },
  {
   "cell_type": "markdown",
   "metadata": {},
   "source": [
    "## Deixar o gráfico do histogrma de valores legível (alterar as labels, cores, escala, etc.)"
   ]
  },
  {
   "cell_type": "code",
   "execution_count": 151,
   "metadata": {},
   "outputs": [
    {
     "data": {
      "image/png": "[encoded data removed]",
      "text/plain": [
       "<Figure size 1008x576 with 1 Axes>"
      ]
     },
     "metadata": {},
     "output_type": "display_data"
    }
   ],
   "source": [
    "plt.figure(figsize=(14, 8))\n",
    "# plt.style.use('bmh')\n",
    "sns.set()\n",
    "ax = sns.histplot(df, x='valor_anuncio_mi', kde=True)\n",
    "ax.set_xlabel(\"Valor do Imóvel (em Milhões)\")\n",
    "ax.set_ylabel(\"Qtd Imóveis\")\n",
    "ax.set_title(\"Histograma Valor Imóveis\");"
   ]
  },
  {
   "cell_type": "markdown",
   "metadata": {},
   "source": [
    "## Preço do metro quadrado por bairro e plotar em gráfico ideal"
   ]
  },
  {
   "cell_type": "code",
   "execution_count": 56,
   "metadata": {},
   "outputs": [],
   "source": [
    "df['valor_m2'] = df['valor_anuncio'] / df['Metragem']"
   ]
  },
  {
   "cell_type": "code",
   "execution_count": 87,
   "metadata": {},
   "outputs": [],
   "source": [
    "caros = df[['Bairro', 'valor_m2']].groupby('Bairro').mean().reset_index().sort_values(by='valor_m2', ascending=False).head(20)\n",
    "baratos = df[['Bairro', 'valor_m2']].groupby('Bairro').mean().reset_index().sort_values(by='valor_m2', ascending=False).tail(20)"
   ]
  },
  {
   "cell_type": "code",
   "execution_count": 98,
   "metadata": {},
   "outputs": [
    {
     "data": {
      "image/png": "[encoded data removed]",
      "text/plain": [
       "<Figure size 3024x864 with 2 Axes>"
      ]
     },
     "metadata": {},
     "output_type": "display_data"
    }
   ],
   "source": [
    "plt.figure(figsize=(42, 12))\n",
    "plt.subplot(1, 2, 1)\n",
    "ax = sns.barplot(y='Bairro', x='valor_m2', data=caros)\n",
    "ax.set_title(\"Valor Médio do m² dos 20 Bairros Mais Caros\")\n",
    "plt.xlabel(\"Valor do M² (R$)\")\n",
    "plt.ylabel(\"\")\n",
    "\n",
    "plt.subplot(1, 2, 2)\n",
    "ax = sns.barplot(y='Bairro', x='valor_m2', data=baratos)\n",
    "ax.set_title(\"Valor Médio do m² dos 20 Bairros Mais Baratos\")\n",
    "plt.xlabel(\"Valor do M² (R$)\")\n",
    "plt.ylabel(\"\")\n",
    "plt.show()"
   ]
  },
  {
   "cell_type": "markdown",
   "metadata": {},
   "source": [
    "## Explorar as bibliotecas de visualizações e colocar as suas conclusões"
   ]
  },
  {
   "cell_type": "markdown",
   "metadata": {},
   "source": [
    "Cerca de 2/3 dos imóveis têm 3 e 4 quartos, entre 2 e 5 banheiros e entre 2 e 5 vagas\n"
   ]
  },
  {
   "cell_type": "code",
   "execution_count": 176,
   "metadata": {},
   "outputs": [
    {
     "data": {
      "image/png": "[encoded data removed]",
      "text/plain": [
       "<Figure size 1584x576 with 3 Axes>"
      ]
     },
     "metadata": {},
     "output_type": "display_data"
    }
   ],
   "source": [
    "plt.figure(figsize=(22, 8))\n",
    "plt.subplot(1, 3, 1) # barplot 1 - Quartos\n",
    "aux1 = df[['Metragem', 'Quartos']].groupby('Quartos').count().reset_index().rename({'Metragem': 'Qtd.'}, axis=1)\n",
    "sns.barplot(x='Quartos', y='Qtd.', data=aux1)\n",
    "\n",
    "plt.subplot(1, 3, 2) # barplot 2 - Banheiros\n",
    "aux2 = df[['Metragem', 'Banheiros']].groupby('Banheiros').count().reset_index().rename({'Metragem': 'Qtd.'}, axis=1)\n",
    "sns.barplot(x='Banheiros', y='Qtd.', data=aux2)\n",
    "\n",
    "plt.subplot(1, 3, 3) # barplot 3 - Vagas\n",
    "aux3 = df[['Metragem', 'Vagas']].groupby('Vagas').count().reset_index().rename({'Metragem': 'Qtd.'}, axis=1)\n",
    "sns.barplot(x='Vagas', y='Qtd.', data=aux3)\n",
    "plt.show()"
   ]
  },
  {
   "cell_type": "markdown",
   "metadata": {},
   "source": [
    "Filtrando os imóveis cuja metragem é inferior a 1000, constata-se a prevalência de imóveis com área de 100 a 400 m²"
   ]
  },
  {
   "cell_type": "code",
   "execution_count": 145,
   "metadata": {},
   "outputs": [
    {
     "data": {
      "image/png": "[encoded data removed]",
      "text/plain": [
       "<Figure size 1152x576 with 1 Axes>"
      ]
     },
     "metadata": {},
     "output_type": "display_data"
    }
   ],
   "source": [
    "plt.figure(figsize=(16, 8))\n",
    "ax = sns.histplot(x='Metragem', data=df[df['Metragem'] < 1000], kde=True)\n",
    "ax.set_title(\"Histograma - Metragem\")\n",
    "plt.ylabel(\"Quantidade\")\n",
    "plt.show()"
   ]
  },
  {
   "cell_type": "markdown",
   "metadata": {},
   "source": [
    "Filtrando os imóveis cuja metragem é inferior a 900, ainda é possível visualizar a existência de outliers"
   ]
  },
  {
   "cell_type": "code",
   "execution_count": 146,
   "metadata": {},
   "outputs": [
    {
     "data": {
      "image/png": "[encoded data removed]",
      "text/plain": [
       "<Figure size 360x576 with 1 Axes>"
      ]
     },
     "metadata": {},
     "output_type": "display_data"
    }
   ],
   "source": [
    "plt.figure(figsize=(5, 8))\n",
    "ax = sns.boxplot(y='Metragem', data=df[df['Metragem'] < 900])"
   ]
  },
  {
   "cell_type": "markdown",
   "metadata": {},
   "source": [
    "Embora haja pontos bastante dispersos, é possível visualizar a correlação positiva entre Metragem e Valor Anúncio"
   ]
  },
  {
   "cell_type": "code",
   "execution_count": 144,
   "metadata": {},
   "outputs": [
    {
     "data": {
      "image/png": "[encoded data removed]",
      "text/plain": [
       "<Figure size 1152x576 with 1 Axes>"
      ]
     },
     "metadata": {},
     "output_type": "display_data"
    }
   ],
   "source": [
    "plt.figure(figsize=(16, 8))\n",
    "ax = sns.scatterplot(x='valor_anuncio_mi', y='Metragem', data=df[df['Metragem'] < 35000])\n",
    "ax.set_title(\"Valor Anúncio (em Milhões) vs. Metragem\")\n",
    "plt.xlabel(\"Valor Anúncio (Mi)\")\n",
    "plt.show()"
   ]
  },
  {
   "cell_type": "markdown",
   "metadata": {},
   "source": [
    "## Pesquisar uma visualização para analisar as medidas separatrizes, de tendência central e outliers"
   ]
  },
  {
   "cell_type": "code",
   "execution_count": 142,
   "metadata": {},
   "outputs": [
    {
     "data": {
      "text/plain": [
       "Text(0, 0.5, 'Valor Anúncio (Mi)')"
      ]
     },
     "execution_count": 142,
     "metadata": {},
     "output_type": "execute_result"
    },
    {
     "data": {
      "image/png": "[encoded data removed]",
      "text/plain": [
       "<Figure size 360x576 with 1 Axes>"
      ]
     },
     "metadata": {},
     "output_type": "display_data"
    }
   ],
   "source": [
    "# Para melhor visualizar o gráfico foi necessário eliminar imóveis anunciados por 20 mi ou mais\n",
    "plt.figure(figsize=(5, 8))\n",
    "ax = sns.boxplot(y='valor_anuncio_mi', data=df[df['valor_anuncio_mi'] < 20])\n",
    "plt.title(\"Boxplot Valor Anúncio (em milhões)\")\n",
    "ax.set_ylabel(\"Valor Anúncio (Mi)\")"
   ]
  }
 ],
 "metadata": {
  "interpreter": {
   "hash": "843ec47fa1391334d3354ddf6050bd5b2907af65ad73591fca7f4bf9f7c0b276"
  },
  "kernelspec": {
   "display_name": "Python 3.10.4 64-bit ('brenv')",
   "language": "python",
   "name": "python3"
  },
  "language_info": {
   "codemirror_mode": {
    "name": "ipython",
    "version": 3
   },
   "file_extension": ".py",
   "mimetype": "text/x-python",
   "name": "python",
   "nbconvert_exporter": "python",
   "pygments_lexer": "ipython3",
   "version": "3.10.4"
  },
  "orig_nbformat": 4
 },
 "nbformat": 4,
 "nbformat_minor": 2
}
